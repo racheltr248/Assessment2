{
 "cells": [
  {
   "cell_type": "code",
   "execution_count": 13,
   "id": "0f020878-3310-4e33-b32a-4f6afdb8b4fb",
   "metadata": {},
   "outputs": [],
   "source": [
    "import os\n",
    "import csv\n",
    "cereal_csv = os.path.join(\"cereal.csv\")"
   ]
  },
  {
   "cell_type": "code",
   "execution_count": 15,
   "id": "9cc4f7d6-5362-4461-9c70-d3ba8865f6e5",
   "metadata": {},
   "outputs": [
    {
     "name": "stdout",
     "output_type": "stream",
     "text": [
      "100% Bran\n",
      "All-Bran\n",
      "All-Bran with Extra Fiber\n",
      "Bran Flakes\n",
      "Fruit & Fibre Dates; Walnuts; and Oats\n",
      "Fruitful Bran\n",
      "Post Nat. Raisin Bran\n",
      "Raisin Bran\n"
     ]
    }
   ],
   "source": [
    "with open(cereal_csv, newline=\"\") as csvfile:\n",
    "    csvreader = csv.reader(csvfile, delimiter=\",\")\n",
    "    csv_header = next(csvfile)\n",
    "    for row in csvreader: \n",
    "        if float(row[7]) >= 5:\n",
    "            print(row[0])"
   ]
  }
 ],
 "metadata": {
  "kernelspec": {
   "display_name": "PythonData",
   "language": "python",
   "name": "pythondata"
  },
  "language_info": {
   "codemirror_mode": {
    "name": "ipython",
    "version": 3
   },
   "file_extension": ".py",
   "mimetype": "text/x-python",
   "name": "python",
   "nbconvert_exporter": "python",
   "pygments_lexer": "ipython3",
   "version": "3.7.13"
  }
 },
 "nbformat": 4,
 "nbformat_minor": 5
}
