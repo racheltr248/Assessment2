{
 "cells": [
  {
   "cell_type": "code",
   "execution_count": 30,
   "id": "fd77467d-3bc2-4ca6-b34d-dea8c65e5d23",
   "metadata": {},
   "outputs": [],
   "source": [
    "import json\n",
    "import os\n",
    "\n",
    "filepath = os.path.join(\"youtube_response.json\")\n",
    "with open(filepath) as jsonfile:\n",
    "    video_json = json.load(jsonfile)"
   ]
  },
  {
   "cell_type": "code",
   "execution_count": 31,
   "id": "06edad3b-bbdb-447b-8eeb-bbf7e7c47f20",
   "metadata": {
    "collapsed": true,
    "jupyter": {
     "outputs_hidden": true
    },
    "tags": []
   },
   "outputs": [
    {
     "data": {
      "text/plain": [
       "{'apiVersion': '2.0',\n",
       " 'data': {'updated': '2010-01-07T19:58:42.949Z',\n",
       "  'totalItems': 800,\n",
       "  'startIndex': 1,\n",
       "  'itemsPerPage': 1,\n",
       "  'items': [{'id': 'hYB0mn5zh2c',\n",
       "    'uploaded': '2007-06-05T22:07:03.000Z',\n",
       "    'updated': '2010-01-07T13:26:50.000Z',\n",
       "    'uploader': 'GoogleDeveloperDay',\n",
       "    'category': 'News',\n",
       "    'title': 'Google Developers Day US - Maps API Introduction',\n",
       "    'description': 'Google Maps API Introduction ...',\n",
       "    'tags': ['GDD07', 'GDD07US', 'Maps'],\n",
       "    'thumbnail': {'default': 'http://i.ytimg.com/vi/hYB0mn5zh2c/default.jpg',\n",
       "     'hqDefault': 'http://i.ytimg.com/vi/hYB0mn5zh2c/hqdefault.jpg'},\n",
       "    'player': {'default': 'http://www.youtube.com/watch?vu003dhYB0mn5zh2c'},\n",
       "    'content': {'1': 'rtsp://v5.cache3.c.youtube.com/CiILENy.../0/0/0/video.3gp',\n",
       "     '5': 'http://www.youtube.com/v/hYB0mn5zh2c?f...',\n",
       "     '6': 'rtsp://v1.cache1.c.youtube.com/CiILENy.../0/0/0/video.3gp'},\n",
       "    'duration': 2840,\n",
       "    'aspectRatio': 'widescreen',\n",
       "    'rating': 4.63,\n",
       "    'ratingCount': 68,\n",
       "    'viewCount': 220101,\n",
       "    'favoriteCount': 201,\n",
       "    'commentCount': 22,\n",
       "    'status': {'value': 'restricted', 'reason': 'limitedSyndication'},\n",
       "    'accessControl': {'syndicate': 'allowed',\n",
       "     'commentVote': 'allowed',\n",
       "     'rate': 'allowed',\n",
       "     'list': 'allowed',\n",
       "     'comment': 'allowed',\n",
       "     'embed': 'allowed',\n",
       "     'videoRespond': 'moderated'}}]}}"
      ]
     },
     "execution_count": 31,
     "metadata": {},
     "output_type": "execute_result"
    }
   ],
   "source": [
    "video_json"
   ]
  },
  {
   "cell_type": "code",
   "execution_count": 35,
   "id": "9bb8d6e5-9a23-4e8f-bfd0-f4aef255ca58",
   "metadata": {},
   "outputs": [
    {
     "data": {
      "text/plain": [
       "'http://i.ytimg.com/vi/hYB0mn5zh2c/default.jpg'"
      ]
     },
     "execution_count": 35,
     "metadata": {},
     "output_type": "execute_result"
    }
   ],
   "source": [
    "video_json[\"data\"][\"items\"][0][\"thumbnail\"][\"default\"]"
   ]
  }
 ],
 "metadata": {
  "kernelspec": {
   "display_name": "PythonData",
   "language": "python",
   "name": "pythondata"
  },
  "language_info": {
   "codemirror_mode": {
    "name": "ipython",
    "version": 3
   },
   "file_extension": ".py",
   "mimetype": "text/x-python",
   "name": "python",
   "nbconvert_exporter": "python",
   "pygments_lexer": "ipython3",
   "version": "3.7.13"
  }
 },
 "nbformat": 4,
 "nbformat_minor": 5
}
